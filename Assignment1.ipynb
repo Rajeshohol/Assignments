{
 "cells": [
  {
   "cell_type": "code",
   "execution_count": 5,
   "id": "6efe1dfc",
   "metadata": {},
   "outputs": [
    {
     "ename": "IndentationError",
     "evalue": "unexpected indent (Temp/ipykernel_10988/2253681821.py, line 2)",
     "output_type": "error",
     "traceback": [
      "\u001b[1;36m  File \u001b[1;32m\"C:\\Users\\Rajesh\\AppData\\Local\\Temp/ipykernel_10988/2253681821.py\"\u001b[1;36m, line \u001b[1;32m2\u001b[0m\n\u001b[1;33m    .free open source\u001b[0m\n\u001b[1;37m    ^\u001b[0m\n\u001b[1;31mIndentationError\u001b[0m\u001b[1;31m:\u001b[0m unexpected indent\n"
     ]
    }
   ],
   "source": [
    "1. What are the key features of Python?\n",
    "   .free open source\n",
    "   .simple syntax\n",
    "   .easy to learn\n",
    "   .Reading a Python code is like reading an English sentence. This is one of the key reason that makes Python best for beginners.\n",
    "   .Interpreted Language\n",
    "   .Large Standard Library, many packages and modules\n",
    "   .it will run on different platforms like Windows, Mac and Linux. You don’t need to write them separately for each platform.\n",
    "   .almost 70-75% of data scientist use Python as their primary language for programming.\n",
    "\n",
    "2. What are the Data Types in Python?\n",
    "   .list,tuple,set,dictionary, string, int, flot, complex, range, boolean, binary\n",
    "\n",
    "3. What are local variables and global variables in Python?\n",
    "   .local veriables are variable declare inside function and global veriable declare outside function\n",
    "\n",
    "4. How do you write comments in python? And Why Comments are important?\n",
    "   .for comments we use singel or duble, tripple commas\n",
    "   .its use to explan code or heading\n",
    "\n",
    "5. How to comment on multiple lines in python?\n",
    "   .we user tripple commas\n",
    "\n",
    "6. What do you mean by Python literals?\n",
    "   .literals are notation for representing fixed value in source code.\n",
    "   .string literals\n",
    "   .numeric literals\n",
    "   .boolean literals\n",
    "   .special literals\n",
    "   .\n",
    "   \n",
    "7. What are different ways to assign value to variables?\n",
    "  . we assign veriable by = sign\n",
    "  . veriable can be any alphabet and numbers\n",
    "  . veriable not start with numbers\n",
    "  . veriable not use any special charactor except (_)\n",
    "   \n",
    "8. What are the Escape Characters in python?\n",
    "   ./n for new line \n",
    "   ./t for tab\n",
    "9. Which are the different ways to perform string formatting? Explain with\n",
    "example.\n",
    "   . string can formating from -ve indexing and +ve\n",
    "   . for +ve indexing start with 0 to len of string\n",
    "   . for -ve indexing start form -1 to len of string\n",
    "   ex string = 'rajesh'\n",
    "      string[0]\n",
    "      op 'r'"
   ]
  },
  {
   "cell_type": "code",
   "execution_count": 8,
   "id": "b7d263b3",
   "metadata": {},
   "outputs": [
    {
     "name": "stdout",
     "output_type": "stream",
     "text": [
      "enter the name :raejsh\n",
      "0 r\n",
      "1 a\n",
      "2 e\n",
      "3 j\n",
      "4 s\n",
      "5 h\n"
     ]
    }
   ],
   "source": [
    "\"\"\"10. Write a program to print every character of a string entered by the user in a\n",
    "new line using a loop\"\"\"\n",
    "string = input(\"enter the name :\")\n",
    "for i in range(len(string)):\n",
    "    print(i, string[i])"
   ]
  },
  {
   "cell_type": "code",
   "execution_count": 1,
   "id": "1f98635c",
   "metadata": {},
   "outputs": [
    {
     "name": "stdout",
     "output_type": "stream",
     "text": [
      "string count is :  16\n"
     ]
    }
   ],
   "source": [
    "\"\"\"11. Write a program to find the length of the string \"machine learning\" with and\n",
    "without using len function.\"\"\"\n",
    "string = \"machine learning\"\n",
    "#len(string)\n",
    "count = 0\n",
    "for i in string:\n",
    "    count += 1\n",
    "print(\"string count is : \", count)\n",
    "        \n"
   ]
  },
  {
   "cell_type": "code",
   "execution_count": 1,
   "id": "9397afa3",
   "metadata": {},
   "outputs": [
    {
     "ename": "NameError",
     "evalue": "name 'world2' is not defined",
     "output_type": "error",
     "traceback": [
      "\u001b[1;31m---------------------------------------------------------------------------\u001b[0m",
      "\u001b[1;31mNameError\u001b[0m                                 Traceback (most recent call last)",
      "\u001b[1;32m~\\AppData\\Local\\Temp/ipykernel_5604/1875004155.py\u001b[0m in \u001b[0;36m<module>\u001b[1;34m\u001b[0m\n\u001b[0;32m      2\u001b[0m \u001b[0mjuice\u001b[0m\u001b[1;34m\".\"\u001b[0m\u001b[1;34m\"\"\u001b[0m\u001b[1;33m\u001b[0m\u001b[1;33m\u001b[0m\u001b[0m\n\u001b[0;32m      3\u001b[0m \u001b[0mworld\u001b[0m \u001b[1;33m=\u001b[0m \u001b[1;34m\"This is orange juice\"\u001b[0m\u001b[1;33m\u001b[0m\u001b[1;33m\u001b[0m\u001b[0m\n\u001b[1;32m----> 4\u001b[1;33m \u001b[1;32mif\u001b[0m \u001b[1;34m'orange'\u001b[0m \u001b[1;32min\u001b[0m \u001b[0mworld2\u001b[0m\u001b[1;33m:\u001b[0m\u001b[1;33m\u001b[0m\u001b[1;33m\u001b[0m\u001b[0m\n\u001b[0m\u001b[0;32m      5\u001b[0m     \u001b[0mprint\u001b[0m\u001b[1;33m(\u001b[0m\u001b[1;34m\"orange is present\"\u001b[0m\u001b[1;33m)\u001b[0m\u001b[1;33m\u001b[0m\u001b[1;33m\u001b[0m\u001b[0m\n",
      "\u001b[1;31mNameError\u001b[0m: name 'world2' is not defined"
     ]
    }
   ],
   "source": [
    "\"\"\"12. Write a program to check if the word 'orange' is present in the \"This is orange\n",
    "juice\".\"\"\"\n",
    "world = \"This is orange juice\"\n",
    "if 'orange' in world2:\n",
    "    print(\"orange is present\")"
   ]
  },
  {
   "cell_type": "code",
   "execution_count": null,
   "id": "e3eb0893",
   "metadata": {},
   "outputs": [],
   "source": [
    "\"\"\"13. Write a program to find the number of vowels, consonants, digits, and white\n",
    "space characters in a string\"\"\"\n",
    "number_of_vowels = []\n",
    "number_of_consonants = []\n",
    "number_of_digit = []\n",
    "number_of_white_space_characters = []\n",
    "a = ['a','e','i','o','u',\" \"]\n",
    "string = \"B, C, D, F, G, J, K, L, M, N, P, Q, S, T, V, X, Z\"\n",
    "string2 = '234'\n",
    "\n",
    "for i in a:\n",
    "    if i.isalpha() and i in a:\n",
    "        number_of_vowels.append(i)           \n",
    "    elif i.isdigit():\n",
    "        number_of_digit.append(i)\n",
    "    elif i.isspace():\n",
    "        number_of_white_space_characters.append(i)\n",
    "for i in string:\n",
    "    if i.isalpha:\n",
    "        number_of_consonants.append(i)\n",
    "for i in string2:        \n",
    "    if i.isalnum:\n",
    "        number_of_digit.append(i)\n",
    "        \n",
    "        \n",
    "print(\"number_of_vowels is :\",len(number_of_vowels))\n",
    "print(\"number_of_consonants :\",len(number_of_consonants))\n",
    "print(\"number_of_digit :\", len(number_of_digit))\n",
    "print(\"number_of_white_space_characters :\",len(number_of_white_space_characters))     "
   ]
  },
  {
   "cell_type": "code",
   "execution_count": 7,
   "id": "8659544b",
   "metadata": {},
   "outputs": [
    {
     "name": "stdout",
     "output_type": "stream",
     "text": [
      "number of uppercase value :  ['R', 'O']\n",
      "number of lowercase value :  ['a', 'j', 'e', 's', 'h', 'h', 'o', 'l']\n",
      "number of number value :  ['2']\n",
      "number of special value :  ['!', '/', '?', '@', '$']\n"
     ]
    }
   ],
   "source": [
    "\"\"\"14. Write a Python program to count Uppercase, Lowercase, special character,\n",
    "and numeric values in a given string.\"\"\"\n",
    "\n",
    "str12 = \"!/?RajeshOhol2@$\"\n",
    "upper = []\n",
    "lower = []\n",
    "number = []\n",
    "special = []\n",
    "for i in str12:\n",
    "        if i .isupper():\n",
    "            upper.append(i)\n",
    "        elif i.islower():\n",
    "            lower.append(i)\n",
    "        elif i.isdigit():\n",
    "            number.append(i)\n",
    "        elif not i.isalnum() and not i.isspace():\n",
    "            special.append(i)\n",
    "print(\"number of uppercase value : \", upper)         \n",
    "print(\"number of lowercase value : \", lower) \n",
    "print(\"number of number value : \", number) \n",
    "print(\"number of special value : \", special) \n",
    "            "
   ]
  },
  {
   "cell_type": "code",
   "execution_count": 31,
   "id": "7c0ce5ab",
   "metadata": {},
   "outputs": [
    {
     "ename": "AttributeError",
     "evalue": "'str' object has no attribute 'remove'",
     "output_type": "error",
     "traceback": [
      "\u001b[1;31m---------------------------------------------------------------------------\u001b[0m",
      "\u001b[1;31mAttributeError\u001b[0m                            Traceback (most recent call last)",
      "\u001b[1;32m~\\AppData\\Local\\Temp/ipykernel_2880/3264732924.py\u001b[0m in \u001b[0;36m<module>\u001b[1;34m\u001b[0m\n\u001b[0;32m      6\u001b[0m \u001b[1;32mfor\u001b[0m \u001b[0mi\u001b[0m \u001b[1;32min\u001b[0m \u001b[0mst1\u001b[0m\u001b[1;33m:\u001b[0m\u001b[1;33m\u001b[0m\u001b[1;33m\u001b[0m\u001b[0m\n\u001b[0;32m      7\u001b[0m     \u001b[1;32mif\u001b[0m \u001b[0mi\u001b[0m \u001b[1;32min\u001b[0m \u001b[0mch\u001b[0m\u001b[1;33m:\u001b[0m\u001b[1;33m\u001b[0m\u001b[1;33m\u001b[0m\u001b[0m\n\u001b[1;32m----> 8\u001b[1;33m         \u001b[0mf\u001b[0m\u001b[1;33m=\u001b[0m\u001b[0mi\u001b[0m\u001b[1;33m.\u001b[0m\u001b[0mremove\u001b[0m\u001b[1;33m(\u001b[0m\u001b[0mi\u001b[0m\u001b[1;33m)\u001b[0m\u001b[1;33m\u001b[0m\u001b[1;33m\u001b[0m\u001b[0m\n\u001b[0m\u001b[0;32m      9\u001b[0m \u001b[0mprint\u001b[0m\u001b[1;33m(\u001b[0m\u001b[0mf\u001b[0m\u001b[1;33m)\u001b[0m\u001b[1;33m\u001b[0m\u001b[1;33m\u001b[0m\u001b[0m\n\u001b[0;32m     10\u001b[0m \u001b[1;33m\u001b[0m\u001b[0m\n",
      "\u001b[1;31mAttributeError\u001b[0m: 'str' object has no attribute 'remove'"
     ]
    }
   ],
   "source": [
    "\"\"\"15. Write a program to make a new string with all the consonants deleted from the\n",
    "string Hello, have a good day.\"\"\"\n",
    "st1 = ['a','e','i','o','u','A','E','I','O','U']\n",
    "ch = \"Hello, have a good day\"\n",
    "for i in ch:\n",
    "    if i not in \n",
    "       \n",
    "        \n",
    "        \n",
    "        \n",
    "        "
   ]
  },
  {
   "cell_type": "code",
   "execution_count": 1,
   "id": "ab99df3d",
   "metadata": {},
   "outputs": [
    {
     "data": {
      "text/plain": [
       "' ython'"
      ]
     },
     "execution_count": 1,
     "metadata": {},
     "output_type": "execute_result"
    }
   ],
   "source": [
    "\"\"\"16. Write a Python program to remove the nth index character from a non-empty\n",
    "string.\"\"\"\n",
    "data='Python'\n",
    "output = data.replace(\"P\", \" \")\n",
    "output\n",
    "\n"
   ]
  },
  {
   "cell_type": "code",
   "execution_count": 2,
   "id": "942b8941",
   "metadata": {},
   "outputs": [
    {
     "data": {
      "text/plain": [
       "'hajesh'"
      ]
     },
     "execution_count": 2,
     "metadata": {},
     "output_type": "execute_result"
    }
   ],
   "source": [
    "\"\"\"17. Write a Python program to change a given string to a new string where the first and last characters have been exchanged\"\"\"\n",
    "s1 = 'Rajesh'\n",
    "s2 = s1.replace(\"R\",\"h\")\n",
    "s2\n",
    "\n",
    "\n",
    "\n",
    "\n",
    "\n"
   ]
  },
  {
   "cell_type": "code",
   "execution_count": 5,
   "id": "c1871a38",
   "metadata": {},
   "outputs": [
    {
     "name": "stdout",
     "output_type": "stream",
     "text": [
      "enter the data :rajesh ranaya\n",
      "r word 2 times\n",
      "a word 4 times\n",
      "j word 1 times\n",
      "e word 1 times\n",
      "s word 1 times\n",
      "h word 1 times\n",
      "  word 1 times\n",
      "r word 2 times\n",
      "a word 4 times\n",
      "n word 1 times\n",
      "a word 4 times\n",
      "y word 1 times\n",
      "a word 4 times\n"
     ]
    }
   ],
   "source": [
    "\"\"\"18. Write a Python program to count the occurrences of each word in a given\n",
    "sentence.\"\"\"\n",
    "string_data = input(\"enter the data :\")\n",
    "for i in string_data:\n",
    "    print(i ,\"word\" ,string_data.count(i),\"times\")"
   ]
  },
  {
   "cell_type": "code",
   "execution_count": 17,
   "id": "be5d0e7d",
   "metadata": {},
   "outputs": [
    {
     "name": "stdout",
     "output_type": "stream",
     "text": [
      "3\n"
     ]
    }
   ],
   "source": [
    "\"\"\"19. How do you count the occurrence of a given character in a string?\"\"\"\n",
    "string = \"corona go\"\n",
    "mychar = 'o'\n",
    "count = 0\n",
    "for i in string:\n",
    "    if i == mychar:\n",
    "        count += 1\n",
    "print(count) "
   ]
  },
  {
   "cell_type": "code",
   "execution_count": 7,
   "id": "a355a860",
   "metadata": {},
   "outputs": [
    {
     "data": {
      "text/plain": [
       "'a nahi saala'"
      ]
     },
     "execution_count": 7,
     "metadata": {},
     "output_type": "execute_result"
    }
   ],
   "source": [
    "\"\"\"20. Write a program to find last 10 characters of a string?\"\"\"\n",
    "string = 'pushpa raj jukega nahi saala'\n",
    "string[-12:]"
   ]
  },
  {
   "cell_type": "code",
   "execution_count": 3,
   "id": "a3b21ac7",
   "metadata": {},
   "outputs": [
    {
     "data": {
      "text/plain": [
       "'RAJESH OHOL'"
      ]
     },
     "execution_count": 3,
     "metadata": {},
     "output_type": "execute_result"
    }
   ],
   "source": [
    "\"\"\"21. WAP to convert a given string to all uppercase if it contains at least 2\n",
    "uppercase characters in the first 4 characters.\"\"\"\n",
    "\n",
    "name = 'RAjesh ohol'\n",
    "name.upper()"
   ]
  },
  {
   "cell_type": "code",
   "execution_count": 4,
   "id": "6b04e084",
   "metadata": {},
   "outputs": [
    {
     "data": {
      "text/plain": [
       "'acer'"
      ]
     },
     "execution_count": 4,
     "metadata": {},
     "output_type": "execute_result"
    }
   ],
   "source": [
    "\"\"\"22. Write a Python program to remove a newline in Python. \"\"\"\n",
    "d = 'acer\\n'\n",
    "d.rstrip()"
   ]
  },
  {
   "cell_type": "code",
   "execution_count": 5,
   "id": "d4fa0c55",
   "metadata": {},
   "outputs": [
    {
     "name": "stdout",
     "output_type": "stream",
     "text": [
      "32.054.23\n",
      "32,054.23\n"
     ]
    }
   ],
   "source": [
    "\"\"\"23. Write a Python program to swap commas and dots in a string ○ Sample string: \"32.054,23\" \n",
    "○ Expected Output: 32,054.23 \"\"\"\n",
    "string= \"32.054,23\"\n",
    "st1=string.replace(\",\",\".\")\n",
    "print(st1)\n",
    "st2=st1.replace(\".\",\",\",1)\n",
    "print(st2)\n"
   ]
  },
  {
   "cell_type": "code",
   "execution_count": 29,
   "id": "75a129a9",
   "metadata": {},
   "outputs": [
    {
     "name": "stdout",
     "output_type": "stream",
     "text": [
      "e\n"
     ]
    }
   ],
   "source": [
    "\"\"\"24. Write a Python program to find the first repeated character in a given string \"\"\"\n",
    "str =\"deewar\"\n",
    "a=0\n",
    "for i in range(0 , len(str) ): \n",
    "    if a==1:\n",
    "        break\n",
    "    for j in range(i+1 , len(str)): \n",
    "        if str[i]==str[j]:\n",
    "            print(str[i])\n",
    "            a=1              \n",
    "            break      \n",
    " \n",
    "       "
   ]
  },
  {
   "cell_type": "code",
   "execution_count": 1,
   "id": "f7ed0151",
   "metadata": {},
   "outputs": [
    {
     "name": "stdout",
     "output_type": "stream",
     "text": [
      "Enter a string :-aa bb cc dd \n",
      "aa\n"
     ]
    }
   ],
   "source": [
    "\"\"\"25. Write a Python program to find the second most repeated word in a given string\"\"\" \n",
    "\n",
    "string1 = input(\"Enter a string :-\")\n",
    "lst = string1.split()\n",
    "max = 0\n",
    "for i in lst:\n",
    "    if lst.count(i) > max :\n",
    "        max = lst.count(i)\n",
    "        maxvalue = i\n",
    "\n",
    "print(maxvalue) "
   ]
  },
  {
   "cell_type": "code",
   "execution_count": 11,
   "id": "ebecfcfc",
   "metadata": {},
   "outputs": [
    {
     "name": "stdout",
     "output_type": "stream",
     "text": [
      "enter the number :2\n",
      "given number is even\n"
     ]
    }
   ],
   "source": [
    "\"\"\"26. Python program to Count Even and Odd numbers in a string\"\"\"\n",
    "\n",
    "number = eval(input(\"enter the number :\"))\n",
    "if number % 2 == 0:\n",
    "    print(\"given number is even\")\n",
    "else:\n",
    "    print(\"given number is odd\")"
   ]
  },
  {
   "cell_type": "code",
   "execution_count": 13,
   "id": "5b9317d2",
   "metadata": {},
   "outputs": [
    {
     "data": {
      "text/plain": [
       "True"
      ]
     },
     "execution_count": 13,
     "metadata": {},
     "output_type": "execute_result"
    }
   ],
   "source": [
    "\"\"\"27. How do you check if a string contains only digits?\"\"\"\n",
    "name = '2'\n",
    "name.isdigit()"
   ]
  },
  {
   "cell_type": "code",
   "execution_count": 19,
   "id": "5bf789d7",
   "metadata": {},
   "outputs": [
    {
     "data": {
      "text/plain": [
       "' ohol'"
      ]
     },
     "execution_count": 19,
     "metadata": {},
     "output_type": "execute_result"
    }
   ],
   "source": [
    "\"\"\"28. How do you remove a given character/word from String?\"\"\"\n",
    "name = 'rajesh ohol'\n",
    "name.replace('rajesh','')"
   ]
  },
  {
   "cell_type": "code",
   "execution_count": 3,
   "id": "4a7fd144",
   "metadata": {},
   "outputs": [
    {
     "name": "stdout",
     "output_type": "stream",
     "text": [
      "enter any string :rajesh\n",
      " rjs\n"
     ]
    }
   ],
   "source": [
    "\"\"\"29. Write a Python program to remove the characters which have odd index values of a given string \"\"\"\n",
    "s = input(\"enter any string :\")\n",
    "s1 = ' '\n",
    "for i in range(0,len(s)):\n",
    "    if i%2 ==0:\n",
    "        s1+= s[i]\n",
    "print(s1)        "
   ]
  },
  {
   "cell_type": "code",
   "execution_count": 24,
   "id": "d2a10c18",
   "metadata": {},
   "outputs": [
    {
     "data": {
      "text/plain": [
       "'hsejar'"
      ]
     },
     "execution_count": 24,
     "metadata": {},
     "output_type": "execute_result"
    }
   ],
   "source": [
    "\"\"\"32. Write a Python program to reverse words in a string\"\"\"\n",
    "name = 'rajesh'\n",
    "name[ : :-1]"
   ]
  },
  {
   "cell_type": "code",
   "execution_count": 26,
   "id": "770ca79f",
   "metadata": {},
   "outputs": [
    {
     "data": {
      "text/plain": [
       "'RAJESH'"
      ]
     },
     "execution_count": 26,
     "metadata": {},
     "output_type": "execute_result"
    }
   ],
   "source": [
    "\"\"\"33. Write a Python program to swap cases of a given string\"\"\"\n",
    "name = 'rajesh'\n",
    "name.swapcase()"
   ]
  },
  {
   "cell_type": "code",
   "execution_count": 29,
   "id": "bb7a85b6",
   "metadata": {},
   "outputs": [
    {
     "data": {
      "text/plain": [
       "'rajesh'"
      ]
     },
     "execution_count": 29,
     "metadata": {},
     "output_type": "execute_result"
    }
   ],
   "source": [
    "\"\"\"34. Write a Python program to remove spaces from a given string\"\"\"\n",
    "name = '  rajesh '\n",
    "name.strip()"
   ]
  },
  {
   "cell_type": "code",
   "execution_count": 1,
   "id": "dca7fd25",
   "metadata": {},
   "outputs": [
    {
     "name": "stdout",
     "output_type": "stream",
     "text": [
      "enter the radius of cirlce : 2\n",
      "area of circle is : {12.56}\n"
     ]
    }
   ],
   "source": [
    "\n",
    "\"\"\"36. Write a Python Program to find the area of a circle\"\"\"\n",
    "pi = 3.14\n",
    "r = eval(input(\"enter the radius of cirlce : \"))\n",
    "area = pi * r * r\n",
    "print(f\"area of circle is :\",{area})\n"
   ]
  },
  {
   "cell_type": "code",
   "execution_count": 24,
   "id": "a2bf16c1",
   "metadata": {},
   "outputs": [
    {
     "name": "stdout",
     "output_type": "stream",
     "text": [
      "55\n"
     ]
    }
   ],
   "source": [
    "\"\"\"37. Python Program to find Sum of squares of first n natural numbers \"\"\"\n",
    "n=5\n",
    "sum=0\n",
    "for i in range (1,n+1):\n",
    "    sum+=i*i#1,4,9,16,25\n",
    "print(sum)    \n",
    "\n"
   ]
  },
  {
   "cell_type": "code",
   "execution_count": 14,
   "id": "ad841659",
   "metadata": {},
   "outputs": [
    {
     "name": "stdout",
     "output_type": "stream",
     "text": [
      "36\n"
     ]
    }
   ],
   "source": [
    "\"\"\"38. Python Program to find cube sum of first n natural numbers \"\"\"\n",
    "n=3\n",
    "r=0\n",
    "for i in range(1,n+1):\n",
    "    r+=i*i*i\n",
    "    \n",
    "print(r)    "
   ]
  },
  {
   "cell_type": "code",
   "execution_count": 2,
   "id": "5ac90845",
   "metadata": {},
   "outputs": [
    {
     "name": "stdout",
     "output_type": "stream",
     "text": [
      "enter the principal amount :100\n",
      "enter the time :1\n",
      "enter the rate :10\n",
      "simple_interest is 10.0\n",
      "compound_intrest is 10.000000000000009\n"
     ]
    }
   ],
   "source": [
    "\"\"\"39. Python Program to find simple interest and compound interest\"\"\"\n",
    "principal = eval(input(\"enter the principal amount :\"))\n",
    "time = eval(input(\"enter the time :\"))\n",
    "rate = eval(input(\"enter the rate :\"))\n",
    "simple_interest = principal*time*rate/100\n",
    "compound_intrest = principal * ( (1+rate/100)**time - 1)\n",
    "print(\"simple_interest is\",simple_interest )\n",
    "print(\"compound_intrest is\", compound_intrest)\n"
   ]
  },
  {
   "cell_type": "code",
   "execution_count": 4,
   "id": "0cf927de",
   "metadata": {},
   "outputs": [
    {
     "name": "stdout",
     "output_type": "stream",
     "text": [
      "enter the number :5\n",
      "number is prime \n"
     ]
    }
   ],
   "source": [
    "\"\"\"40. Python program to check whether a number is Prime or not\"\"\"\n",
    "n = eval(input(\"enter the number :\"))\n",
    "for i in range(2,n):\n",
    "    if n % i == 0:\n",
    "        print(\"not prime number \")\n",
    "        break\n",
    "else:\n",
    "    print(\"number is prime \")\n",
    "    "
   ]
  },
  {
   "cell_type": "markdown",
   "id": "6f5fa4b3",
   "metadata": {},
   "source": [
    "30. Write a Python function to reverses a string if its length is a multiple of 5 "
   ]
  },
  {
   "cell_type": "code",
   "execution_count": 1,
   "id": "7868d816",
   "metadata": {},
   "outputs": [
    {
     "name": "stdout",
     "output_type": "stream",
     "text": [
      "enter the string :rajesh\n"
     ]
    }
   ],
   "source": [
    "n = input(\"enter the string :\")\n",
    "if (len(n))%5 == 0:\n",
    "    print(n[: :-1])\n",
    "   \n",
    "    "
   ]
  },
  {
   "cell_type": "code",
   "execution_count": null,
   "id": "7c365aa8",
   "metadata": {},
   "outputs": [],
   "source": []
  }
 ],
 "metadata": {
  "kernelspec": {
   "display_name": "Python 3 (ipykernel)",
   "language": "python",
   "name": "python3"
  },
  "language_info": {
   "codemirror_mode": {
    "name": "ipython",
    "version": 3
   },
   "file_extension": ".py",
   "mimetype": "text/x-python",
   "name": "python",
   "nbconvert_exporter": "python",
   "pygments_lexer": "ipython3",
   "version": "3.9.7"
  }
 },
 "nbformat": 4,
 "nbformat_minor": 5
}
