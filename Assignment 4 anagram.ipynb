{
 "cells": [
  {
   "cell_type": "markdown",
   "id": "dec9d62e",
   "metadata": {},
   "source": [
    "1. Print anagrams together in python using a list and dictionary. \n",
    "    Input : arr = ['cat', 'dog', 'tac', 'god', 'act'] \n",
    "    Output : 'cat tac act dog god' \n"
   ]
  },
  {
   "cell_type": "code",
   "execution_count": 8,
   "id": "61971301",
   "metadata": {},
   "outputs": [
    {
     "data": {
      "text/plain": [
       "\"dict_values([['cat', 'tac', 'act'], ['dog', 'god']])\""
      ]
     },
     "execution_count": 8,
     "metadata": {},
     "output_type": "execute_result"
    }
   ],
   "source": [
    "input = ['cat', 'dog', 'tac', 'god', 'act']\n",
    "dic ={}\n",
    "for i in input:\n",
    "    s = \"\".join(sorted(i))\n",
    "    if s in dic:\n",
    "        dic[s].append(i)\n",
    "    else:\n",
    "        dic[s] = [i]\n",
    "a = str(dic.values())    \n",
    "a\n",
    "        \n",
    "    "
   ]
  },
  {
   "cell_type": "markdown",
   "id": "3925a4fa",
   "metadata": {},
   "source": [
    "2. Python counter to find the size of the largest subset of anagram words. \n",
    "       Input ::> \"qwe ewq rty ytr ytr ytr\" \n",
    "        Output ::> 4 \n",
    "        Input :: > \"cars bikes arcs steer\" \n",
    "        Output :: > 2 \n"
   ]
  },
  {
   "cell_type": "markdown",
   "id": "3161513e",
   "metadata": {},
   "source": [
    "2. Python counter to find the size of the largest subset of anagram words.  \n",
    "         Input ::> \"qwe ewq rty ytr ytr ytr\" \n",
    "         Output ::> 4 \n",
    "         Input :: > \"cars bikes arcs steer\" \n",
    "         Output :: > 2 \n"
   ]
  },
  {
   "cell_type": "code",
   "execution_count": 10,
   "id": "7922300d",
   "metadata": {},
   "outputs": [
    {
     "name": "stdout",
     "output_type": "stream",
     "text": [
      "4\n"
     ]
    }
   ],
   "source": [
    "from collections import Counter\n",
    "def check(s):\n",
    "    lst = s.split()\n",
    "    for i in range (0 ,len(lst)):\n",
    "        lst[i]=''.join(sorted(lst[i]))\n",
    "    d=Counter(lst)\n",
    "    print(max(d.values()))\n",
    "s= \"qwe ewq rty ytr ytr ytr\" \n",
    "check(s)"
   ]
  },
  {
   "cell_type": "code",
   "execution_count": 13,
   "id": "15f19915",
   "metadata": {},
   "outputs": [
    {
     "name": "stdout",
     "output_type": "stream",
     "text": [
      "2\n"
     ]
    }
   ],
   "source": [
    "def check(s):\n",
    "    lst = s.split()\n",
    "    for i in range (0 ,len(lst)):\n",
    "        lst[i]=''.join(sorted(lst[i]))\n",
    "    d=Counter(lst)\n",
    "    print(max(d.values()))\n",
    "s= \"cars bikes arcs steer\" \n",
    "check(s)"
   ]
  },
  {
   "cell_type": "markdown",
   "id": "77d376dd",
   "metadata": {},
   "source": [
    "3. Python dictionary, set and counter to check if frequencies can become the same. \n",
    "           Input : str = \"xyyz\" \n",
    "           Output : Yes \n",
    "        We can remove character 'y' from above string to make the frequency of each character same. \n",
    "        Input : str = \"xxxxyyzz\" \n",
    "        Output : No \n",
    "        It is not possible to make the frequency of each character the same just by removing at most one character from the above string. \n"
   ]
  },
  {
   "cell_type": "code",
   "execution_count": 19,
   "id": "cfff0dc3",
   "metadata": {},
   "outputs": [
    {
     "name": "stdout",
     "output_type": "stream",
     "text": [
      "yes\n"
     ]
    }
   ],
   "source": [
    "from collections import Counter\n",
    "str1 = \"xyyz\" \n",
    "d = dict(Counter(str1))\n",
    "lst = list(set(d.values()))\n",
    "if (len(lst)>2):\n",
    "    print('no')\n",
    "elif (len(lst)==2 and lst[1]-lst[0]>1):\n",
    "    print('no')\n",
    "else:\n",
    "    print('yes')"
   ]
  },
  {
   "cell_type": "code",
   "execution_count": 23,
   "id": "ec55fce3",
   "metadata": {},
   "outputs": [
    {
     "name": "stdout",
     "output_type": "stream",
     "text": [
      "no\n"
     ]
    }
   ],
   "source": [
    "str2 = \"xxxxyyzz\" \n",
    "d = dict(Counter(str2))\n",
    "lst = list(set(d.values()))\n",
    "if (len(lst)>2):\n",
    "    print('no')\n",
    "elif (len(lst)==2 and lst[1]-lst[0]>1):\n",
    "    print('no')\n",
    "else:\n",
    "    print('yes')"
   ]
  },
  {
   "cell_type": "markdown",
   "id": "9e447ded",
   "metadata": {},
   "source": [
    "4. Python program for number of elements with odd factors in a given range \n",
    "             Input : n = 5, m = 100 \n",
    "              Output : 8 \n",
    "             The numbers with odd factors are 9, 16, 25, 36, 49, 64, 81 and 100 \n",
    "             Input : n = 8, m = 65 \n",
    "             Output : 6\n"
   ]
  },
  {
   "cell_type": "code",
   "execution_count": 34,
   "id": "a4822964",
   "metadata": {},
   "outputs": [
    {
     "data": {
      "text/plain": [
       "array([30, 52, 78, 42, 33,  7, 47, 36])"
      ]
     },
     "execution_count": 34,
     "metadata": {},
     "output_type": "execute_result"
    }
   ],
   "source": [
    "import numpy as np\n",
    "n= np.random.randint(5,100,8)\n",
    "n\n",
    "        \n",
    "    "
   ]
  },
  {
   "cell_type": "code",
   "execution_count": null,
   "id": "02496270",
   "metadata": {},
   "outputs": [],
   "source": []
  }
 ],
 "metadata": {
  "kernelspec": {
   "display_name": "Python 3 (ipykernel)",
   "language": "python",
   "name": "python3"
  },
  "language_info": {
   "codemirror_mode": {
    "name": "ipython",
    "version": 3
   },
   "file_extension": ".py",
   "mimetype": "text/x-python",
   "name": "python",
   "nbconvert_exporter": "python",
   "pygments_lexer": "ipython3",
   "version": "3.9.7"
  }
 },
 "nbformat": 4,
 "nbformat_minor": 5
}
