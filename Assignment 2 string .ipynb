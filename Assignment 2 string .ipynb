{
 "cells": [
  {
   "cell_type": "markdown",
   "id": "86517042",
   "metadata": {},
   "source": [
    "# 1. What is a List? \n",
    "1.List is collection of items/entities that are enclosed in square braces & are separated by comma\n",
    "List is used to store various data types that can include (int,float,complex,list,tuple,set,dict,series,dataframes etc.)\n",
    "\n",
    "Whenever list is called, it returns the data in ordered format.\n",
    "Mutable(changeble, editable) : the values inside the list chan be modified, changed.\n",
    "Muatable data types are the ones which can be modified by accessing index. When the id location changes they are immutable else mutable.\n",
    "List allows duplicate items\n",
    "ex.\n",
    "thislist = [\"apple\", \"banana\", \"cherry\"]\n",
    "print(thislist)\n"
   ]
  },
  {
   "cell_type": "markdown",
   "id": "3717a3ca",
   "metadata": {},
   "source": [
    "# 2. What is a Tuple? \n",
    "Tuple?\n",
    "\n",
    "Tuple are data types that are used to store different data types(int.float.string.complex.list,tuple,etc.)\n",
    "It can store multiple values separated by comma\n",
    "Tuples also allow duplication of items or elements\n",
    "\n",
    "It also supports iterator operations like for loop while loop just like list\n",
    "\n",
    "- Unlike list, tuple is an immutable data type.\n",
    "        The values stroed at any index in tuple can not be modified, changed or deleted.\n",
    "unlike set, tuples are always ordered.\n",
    "Tuple is encompaased within () round brackets\n",
    "\n",
    "Tuples are faster than list\n",
    "thistuple = (\"apple\", \"banana\", \"cherry\")\n",
    "print(thistuple)"
   ]
  },
  {
   "cell_type": "markdown",
   "id": "b49ffb20",
   "metadata": {},
   "source": [
    "# 3. What is the difference between List and Tuple? \n",
    "List:\n",
    "    1. []\n",
    "    2. Mutable\n",
    "    3. Ordered\n",
    "    4. Execution time is greater than tuple.\n",
    "    5. more functionalities than tuple\n",
    "    6. slower than tuple\n",
    "    7. Less memory efficient\n",
    "    8. Duplicates are allowed\n",
    "    9. for single item, it need not be comma separated. it only has to be in square braces.\n",
    "    10. Less secure\n",
    "    \n",
    "Tuple:\n",
    "    1. ()\n",
    "    2. Immutable\n",
    "    3. Ordered\n",
    "    4. Execution time is lesser than list.\n",
    "    5. less functionalities than List.\n",
    "    6. faster than list\n",
    "    7. more memory efficient\n",
    "    8. Duplicates are allowed\n",
    "    9. for single item, it has to be comma separated. Even if multiple values are not encompassed in () but they are separated by comma they are taken in tuple.\n",
    "    10. More secure."
   ]
  },
  {
   "cell_type": "markdown",
   "id": "55fe5666",
   "metadata": {},
   "source": [
    "# 4. Python Program to find the largest element in the list \n"
   ]
  },
  {
   "cell_type": "code",
   "execution_count": 9,
   "id": "3912221a",
   "metadata": {},
   "outputs": [
    {
     "data": {
      "text/plain": [
       "(<function print>, 9)"
      ]
     },
     "execution_count": 9,
     "metadata": {},
     "output_type": "execute_result"
    }
   ],
   "source": [
    "list1 = [2,3,4,5,6,7,8,9]\n",
    "print, max(list1)"
   ]
  },
  {
   "cell_type": "markdown",
   "id": "7876c87d",
   "metadata": {},
   "source": [
    "# 5. Python program to interchange first and last elements in a list."
   ]
  },
  {
   "cell_type": "code",
   "execution_count": 1,
   "id": "6c4a38ad",
   "metadata": {},
   "outputs": [
    {
     "data": {
      "text/plain": [
       "[9, 3, 4, 5, 6, 7, 8, 2]"
      ]
     },
     "execution_count": 1,
     "metadata": {},
     "output_type": "execute_result"
    }
   ],
   "source": [
    "list2 = [2,3,4,5,6,7,8,9]\n",
    "list2[0],list2[-1] = list2[-1],list2[0] \n",
    "list2\n",
    " \n",
    "    \n"
   ]
  },
  {
   "cell_type": "markdown",
   "id": "f62ed0aa",
   "metadata": {},
   "source": [
    "# 6. Python program to swap two elements in a list "
   ]
  },
  {
   "cell_type": "code",
   "execution_count": 3,
   "id": "6517d09e",
   "metadata": {},
   "outputs": [
    {
     "data": {
      "text/plain": [
       "[2, 'ranaya', 'rajesh', 9]"
      ]
     },
     "execution_count": 3,
     "metadata": {},
     "output_type": "execute_result"
    }
   ],
   "source": [
    "list3 = [2,'rajesh','ranaya',9]\n",
    "list3[1],list3[2] = list3[2],list3[1]\n",
    "list3"
   ]
  },
  {
   "cell_type": "markdown",
   "id": "3634c85c",
   "metadata": {},
   "source": [
    "# 7. Python program to Reverse a List "
   ]
  },
  {
   "cell_type": "code",
   "execution_count": 5,
   "id": "bfbe5850",
   "metadata": {},
   "outputs": [
    {
     "data": {
      "text/plain": [
       "[9, 8, 7, 6, 5, 4, 3, 2]"
      ]
     },
     "execution_count": 5,
     "metadata": {},
     "output_type": "execute_result"
    }
   ],
   "source": [
    "list4 = [2,3,4,5,6,7,8,9]\n",
    "list4.reverse()\n",
    "list4"
   ]
  },
  {
   "cell_type": "markdown",
   "id": "9947aab1",
   "metadata": {},
   "source": [
    "# 8. Python program to count occurrences of an element in a list "
   ]
  },
  {
   "cell_type": "code",
   "execution_count": 28,
   "id": "dc0da732",
   "metadata": {},
   "outputs": [
    {
     "name": "stdout",
     "output_type": "stream",
     "text": [
      "2 has occured 2 times\n",
      "3 has occured 1 times\n",
      "4 has occured 1 times\n",
      "5 has occured 1 times\n",
      "6 has occured 1 times\n",
      "2 has occured 2 times\n",
      "\n"
     ]
    }
   ],
   "source": [
    "list5 = [2,3,4,5,6,2]\n",
    "for i in list5:\n",
    "    print(\"{} has occured {} times\".format(i,list5.count(i)))\n",
    "print()    "
   ]
  },
  {
   "cell_type": "markdown",
   "id": "4f4ecc47",
   "metadata": {},
   "source": [
    "# 9. Python program to find the sum of elements in a list "
   ]
  },
  {
   "cell_type": "code",
   "execution_count": 33,
   "id": "71121322",
   "metadata": {},
   "outputs": [
    {
     "data": {
      "text/plain": [
       "27"
      ]
     },
     "execution_count": 33,
     "metadata": {},
     "output_type": "execute_result"
    }
   ],
   "source": [
    "list6 = [2,3,4,5,6,7]\n",
    "ans = sum(list6)\n",
    "ans\n",
    " \n",
    "    "
   ]
  },
  {
   "cell_type": "markdown",
   "id": "90dab3f7",
   "metadata": {},
   "source": [
    "# 10. Python program to Multiply all numbers in the list "
   ]
  },
  {
   "cell_type": "code",
   "execution_count": 35,
   "id": "6a2ca3bd",
   "metadata": {},
   "outputs": [
    {
     "name": "stdout",
     "output_type": "stream",
     "text": [
      "2\n"
     ]
    }
   ],
   "source": [
    "list7 = [2,1,1,1]\n",
    "mu = 1\n",
    "for i in list7:\n",
    "    mu = mu*i\n",
    "print(mu)    "
   ]
  },
  {
   "cell_type": "markdown",
   "id": "88898118",
   "metadata": {},
   "source": [
    "# 11. What are the ways to find the length of a list "
   ]
  },
  {
   "cell_type": "code",
   "execution_count": null,
   "id": "5ec9cb33",
   "metadata": {},
   "outputs": [],
   "source": [
    "list7 = [2,1,1,1]\n",
    "len(list7)"
   ]
  },
  {
   "cell_type": "markdown",
   "id": "52b10566",
   "metadata": {},
   "source": [
    "# 12. Python program to find the smallest and largest number in a list (Without min-max function) "
   ]
  },
  {
   "cell_type": "code",
   "execution_count": 39,
   "id": "647abd21",
   "metadata": {},
   "outputs": [
    {
     "name": "stdout",
     "output_type": "stream",
     "text": [
      "[10, 10, 20, 40, 90, 100]\n",
      "smallest number in list8 is : 10\n",
      "largest number in list8 is : 100\n"
     ]
    }
   ],
   "source": [
    "list8 = [100,10,90,40,20,10]\n",
    "list8.sort()\n",
    "print(list8)\n",
    "print(\"smallest number in list8 is :\",list8[0])\n",
    "print(\"largest number in list8 is :\",list8[-1])\n"
   ]
  },
  {
   "cell_type": "markdown",
   "id": "35012ad2",
   "metadata": {},
   "source": [
    "# 13. Python Program to find the area of a circle "
   ]
  },
  {
   "cell_type": "code",
   "execution_count": 40,
   "id": "184c8a30",
   "metadata": {},
   "outputs": [
    {
     "name": "stdout",
     "output_type": "stream",
     "text": [
      "enter the radius of circle2\n",
      "area of circle is  12.56\n"
     ]
    }
   ],
   "source": [
    "pi = 3.14\n",
    "r = int(input(\"enter the radius of circle\" ))\n",
    "result = pi*r*r\n",
    "print(\"area of circle is \", result)"
   ]
  },
  {
   "cell_type": "markdown",
   "id": "69643bee",
   "metadata": {},
   "source": [
    "# 14. Take inputs from the user to make a list. Again take one input from the user and search it in the list and delete that element, if found. Iterate over a list using for loop. "
   ]
  },
  {
   "cell_type": "code",
   "execution_count": 16,
   "id": "86893c61",
   "metadata": {},
   "outputs": [
    {
     "name": "stdout",
     "output_type": "stream",
     "text": [
      "enter how many number req :5\n",
      "1\n",
      "2\n",
      "3\n",
      "4\n",
      "1\n",
      "enter the number which want to remove 1\n",
      "[2, 3, 4, 1]\n"
     ]
    }
   ],
   "source": [
    "n = int(input(\"enter how many number req :\"))\n",
    "\n",
    "mylist = []\n",
    "for i in range(n):\n",
    "    elm = int(input())\n",
    "    mylist.append(elm)\n",
    "m = int(input(\"enter the number which want to remove \"))\n",
    "if m in mylist:\n",
    "    mylist.remove(m)\n",
    "print(mylist)    \n",
    "    \n",
    "\n",
    "             "
   ]
  },
  {
   "cell_type": "markdown",
   "id": "0eab9340",
   "metadata": {},
   "source": [
    "# 15. You are given a list of integer elements. Make a new list that will store a square of elements of the previous list. "
   ]
  },
  {
   "cell_type": "code",
   "execution_count": 23,
   "id": "871cc2b1",
   "metadata": {},
   "outputs": [
    {
     "data": {
      "text/plain": [
       "[4, 25, 36, 144]"
      ]
     },
     "execution_count": 23,
     "metadata": {},
     "output_type": "execute_result"
    }
   ],
   "source": [
    "Input_list = [2,5,6,12] \n",
    "Output_list = []\n",
    "for i in Input_list:\n",
    "    Output_list.append(i**2)\n",
    "Output_list      "
   ]
  },
  {
   "cell_type": "markdown",
   "id": "1501b78a",
   "metadata": {},
   "source": [
    "# 16. WAP to create two lists, one containing all even numbers and the other containing all odd numbers between 0 to 151 "
   ]
  },
  {
   "cell_type": "code",
   "execution_count": 25,
   "id": "1de180cb",
   "metadata": {},
   "outputs": [
    {
     "name": "stdout",
     "output_type": "stream",
     "text": [
      "even number are : [0, 2, 4, 6, 8, 10, 12, 14, 16, 18, 20, 22, 24, 26, 28, 30, 32, 34, 36, 38, 40, 42, 44, 46, 48, 50, 52, 54, 56, 58, 60, 62, 64, 66, 68, 70, 72, 74, 76, 78, 80, 82, 84, 86, 88, 90, 92, 94, 96, 98, 100, 102, 104, 106, 108, 110, 112, 114, 116, 118, 120, 122, 124, 126, 128, 130, 132, 134, 136, 138, 140, 142, 144, 146, 148, 150]\n",
      "odd number are : [1, 3, 5, 7, 9, 11, 13, 15, 17, 19, 21, 23, 25, 27, 29, 31, 33, 35, 37, 39, 41, 43, 45, 47, 49, 51, 53, 55, 57, 59, 61, 63, 65, 67, 69, 71, 73, 75, 77, 79, 81, 83, 85, 87, 89, 91, 93, 95, 97, 99, 101, 103, 105, 107, 109, 111, 113, 115, 117, 119, 121, 123, 125, 127, 129, 131, 133, 135, 137, 139, 141, 143, 145, 147, 149]\n"
     ]
    }
   ],
   "source": [
    "even = []    \n",
    "odd  = []\n",
    "for i in range(0,151):\n",
    "    if i%2 == 0:\n",
    "        even.append(i)\n",
    "    else:\n",
    "        odd.append(i)\n",
    "print(\"even number are :\",even)\n",
    "print(\"odd number are :\",odd)\n"
   ]
  },
  {
   "cell_type": "markdown",
   "id": "3464f782",
   "metadata": {},
   "source": [
    "# 17. Python program to Count Even and Odd numbers in a List"
   ]
  },
  {
   "cell_type": "code",
   "execution_count": 38,
   "id": "ec63418c",
   "metadata": {},
   "outputs": [
    {
     "name": "stdout",
     "output_type": "stream",
     "text": [
      "total even numbers : 3 total odd numbers : 3\n"
     ]
    }
   ],
   "source": [
    "\n",
    "number = [1,2,3,4,5,6]\n",
    "even = 0\n",
    "odd = 0\n",
    "for i in number:\n",
    "    if i%2==0:\n",
    "        even += 1\n",
    "    else:\n",
    "        odd += 1\n",
    "print(\"total even numbers :\",even,\"total odd numbers :\",odd)        \n",
    "        \n",
    "    \n",
    "        \n"
   ]
  },
  {
   "cell_type": "markdown",
   "id": "21e55d1e",
   "metadata": {},
   "source": [
    "# 19. From a list containing ints, strings, and floats, make three lists to store them separately. "
   ]
  },
  {
   "cell_type": "code",
   "execution_count": 41,
   "id": "34cdd265",
   "metadata": {},
   "outputs": [
    {
     "name": "stdout",
     "output_type": "stream",
     "text": [
      "string are ['kites']\n",
      "int are [2]\n",
      "float are [1.5]\n"
     ]
    }
   ],
   "source": [
    "L = ['kites',2,1.5]\n",
    "string =[]\n",
    "ints =[]\n",
    "floats = []\n",
    "for i in L:\n",
    "    if type(i) == str:\n",
    "        string.append(i)\n",
    "    elif type(i) == int:\n",
    "        ints.append(i)\n",
    "    elif type(i) == float:\n",
    "        floats.append(i)\n",
    "print(\"string are\",string) \n",
    "print(\"int are\",ints)\n",
    "print(\"float are\",floats)\n",
    "    \n",
    "    "
   ]
  },
  {
   "cell_type": "markdown",
   "id": "b16c3dc9",
   "metadata": {},
   "source": [
    "# 20. What’s The Difference Between The Python append() and extend() Methods? "
   ]
  },
  {
   "cell_type": "code",
   "execution_count": 42,
   "id": "a4b11339",
   "metadata": {},
   "outputs": [
    {
     "data": {
      "text/plain": [
       "'Append one element at time\\nIt adds an element at the end of the list. \\nThe length of the list increases by one.\\nextend multipal element add at time\\nIterates over its argument and adding each element to the list and extending the list. \\nThe length of the list increases by number of elements in it’s argument.'"
      ]
     },
     "execution_count": 42,
     "metadata": {},
     "output_type": "execute_result"
    }
   ],
   "source": [
    "\"\"\"Append one element at time\n",
    "It adds an element at the end of the list. \n",
    "The length of the list increases by one.\n",
    "extend multipal element add at time\n",
    "Iterates over its argument and adding each element to the list and extending the list. \n",
    "The length of the list increases by number of elements in it’s argument.\"\"\""
   ]
  },
  {
   "cell_type": "markdown",
   "id": "baa0f6ae",
   "metadata": {},
   "source": [
    "# 21. Write a Python program to append a list to the second list"
   ]
  },
  {
   "cell_type": "code",
   "execution_count": 44,
   "id": "0b10058d",
   "metadata": {},
   "outputs": [
    {
     "name": "stdout",
     "output_type": "stream",
     "text": [
      "l2 = [1, 2, 3, 4]\n"
     ]
    }
   ],
   "source": [
    "l1 =[1,2,3,4]\n",
    "l2 =[]\n",
    "for i in l1:\n",
    "    l2.append(i)\n",
    "print(\"l2 =\",l2)    "
   ]
  },
  {
   "cell_type": "markdown",
   "id": "b3575a04",
   "metadata": {},
   "source": [
    "# 22. Write a Python program to find the third-largest number in a list"
   ]
  },
  {
   "cell_type": "code",
   "execution_count": 4,
   "id": "47099582",
   "metadata": {},
   "outputs": [
    {
     "data": {
      "text/plain": [
       "101"
      ]
     },
     "execution_count": 4,
     "metadata": {},
     "output_type": "execute_result"
    }
   ],
   "source": [
    "list01 = [100,101,30,50,400,120]\n",
    "list01.sort()\n",
    "list01\n",
    "list01[-3]"
   ]
  },
  {
   "cell_type": "markdown",
   "id": "5b07ba18",
   "metadata": {},
   "source": [
    "# 23. Write a Python program to get the frequency of the elements in a list. "
   ]
  },
  {
   "cell_type": "code",
   "execution_count": 5,
   "id": "ff4d4322",
   "metadata": {},
   "outputs": [
    {
     "name": "stdout",
     "output_type": "stream",
     "text": [
      "Original List :  [10, 10, 10, 10, 20, 20, 20, 20, 40, 40, 50, 50, 30]\n",
      "Frequency of the elements in the List :  Counter({10: 4, 20: 4, 40: 2, 50: 2, 30: 1})\n"
     ]
    }
   ],
   "source": [
    "import collections\n",
    "my_list = [10,10,10,10,20,20,20,20,40,40,50,50,30]\n",
    "print(\"Original List : \",my_list)\n",
    "ctr = collections.Counter(my_list)\n",
    "print(\"Frequency of the elements in the List : \",ctr)\n"
   ]
  },
  {
   "cell_type": "markdown",
   "id": "bf596020",
   "metadata": {},
   "source": [
    "# 24. Write a Python program to check whether a list contains a sublist "
   ]
  },
  {
   "cell_type": "code",
   "execution_count": 9,
   "id": "30569337",
   "metadata": {},
   "outputs": [
    {
     "name": "stdout",
     "output_type": "stream",
     "text": [
      "list contains sublist :\n"
     ]
    }
   ],
   "source": [
    "my_list2 = [10,10,10,10,20,[20,20,20,40],40,50,50,30]\n",
    "for i in my_list2:\n",
    "    if type(i) == list:\n",
    "        print(\"list contains sublist :\")\n",
    "    else:\n",
    "        pass"
   ]
  },
  {
   "cell_type": "markdown",
   "id": "13ba1e0d",
   "metadata": {},
   "source": [
    "# 25. Write a Python program to generate all sublists of a list "
   ]
  },
  {
   "cell_type": "code",
   "execution_count": 13,
   "id": "2bf6620a",
   "metadata": {},
   "outputs": [
    {
     "name": "stdout",
     "output_type": "stream",
     "text": [
      "[[], [1], [1, 2], [2], [1, 2, 3], [2, 3], [3]]\n"
     ]
    }
   ],
   "source": [
    "l = [1,2,3]\n",
    "lists = [[]]\n",
    "for i in range(len(l) + 1):\n",
    "    for j in range(i):\n",
    "        lists.append(l[j: i])\n",
    "print(lists)        \n",
    "            "
   ]
  },
  {
   "cell_type": "markdown",
   "id": "763b8850",
   "metadata": {},
   "source": [
    "# 26. Write a Python program to find common items from two lists"
   ]
  },
  {
   "cell_type": "code",
   "execution_count": 16,
   "id": "95089077",
   "metadata": {},
   "outputs": [
    {
     "name": "stdout",
     "output_type": "stream",
     "text": [
      "common_items from both list are :  [1, 2, 5, 6, 7]\n"
     ]
    }
   ],
   "source": [
    "l1 = [1,2,3,4,5,6,7]\n",
    "l2 = [5,6,7,8,9,1,2]\n",
    "common_items = []\n",
    "for i in l1:\n",
    "    if i in l2:\n",
    "        common_items.append(i)\n",
    "print(\"common_items from both list are : \",common_items)        "
   ]
  },
  {
   "cell_type": "markdown",
   "id": "f2f53171",
   "metadata": {},
   "source": [
    "# 27. How to flatten a list in python? "
   ]
  },
  {
   "cell_type": "code",
   "execution_count": 17,
   "id": "42469428",
   "metadata": {},
   "outputs": [
    {
     "name": "stdout",
     "output_type": "stream",
     "text": [
      "[1, 2, 3, 4, 'Ten', 'Twenty', 'Thirty', 1.1, 10.0, (1+2j), 20.55, 3.142]\n"
     ]
    }
   ],
   "source": [
    "list_1 = [ [1, 2, 3, 4], [\"Ten\", \"Twenty\", \"Thirty\"], [1.1,  1.0E1, 1+2j, 20.55, 3.142]]\n",
    "flatlist=[]\n",
    "for i in list_1:\n",
    "    for j in i:\n",
    "        flatlist.append(j)\n",
    "print(flatlist)"
   ]
  },
  {
   "cell_type": "markdown",
   "id": "859a3375",
   "metadata": {},
   "source": [
    "# 28. How to sort a list in ascending and descending order without using the sort function? "
   ]
  },
  {
   "cell_type": "code",
   "execution_count": 18,
   "id": "60f205fd",
   "metadata": {},
   "outputs": [
    {
     "name": "stdout",
     "output_type": "stream",
     "text": [
      "[-2, -1, 0, 1, 2, 3, 4]\n"
     ]
    }
   ],
   "source": [
    "my_list = [4, 2, 3, -1, -2, 0, 1]\n",
    "\n",
    "for i in range(len(my_list)):\n",
    "    for j in range(i + 1, len(my_list)):\n",
    "\n",
    "        if my_list[i] > my_list[j]:\n",
    "            my_list[i], my_list[j] = my_list[j], my_list[i]\n",
    "\n",
    "print(my_list)"
   ]
  },
  {
   "cell_type": "markdown",
   "id": "8053f139",
   "metadata": {},
   "source": [
    "# 29. How to sort a tuple? "
   ]
  },
  {
   "cell_type": "code",
   "execution_count": 1,
   "id": "019649d6",
   "metadata": {},
   "outputs": [
    {
     "data": {
      "text/plain": [
       "[2, 3, 3, 3, 4, 6, 6, 9]"
      ]
     },
     "execution_count": 1,
     "metadata": {},
     "output_type": "execute_result"
    }
   ],
   "source": [
    "tuple1 = (2,3,6,9,3,4,6,3)\n",
    "sorted_tuple = sorted(tuple1)\n",
    "sorted_tuple"
   ]
  },
  {
   "cell_type": "code",
   "execution_count": 7,
   "id": "fe259efe",
   "metadata": {},
   "outputs": [
    {
     "name": "stdout",
     "output_type": "stream",
     "text": [
      " 113350\n"
     ]
    }
   ],
   "source": [
    "\"\"\"30. Write a Python program to convert a list of multiple integers into a single integer \n",
    "a. [11, 33, 50] >>> 113350 \n",
    "\"\"\"\n",
    "list = [11, 33, 50]\n",
    "string = \" \"\n",
    "for i in list:\n",
    "    string+= str(i)\n",
    "print(string)    "
   ]
  },
  {
   "cell_type": "markdown",
   "id": "25589176",
   "metadata": {},
   "source": [
    "\"\"\"31. Difference between del and clear? \"\"\"\n",
    "1. del() keyword is used to delete a particular element of a dictionary\n",
    "1. The clear() function is used to delete all the elements in a dictionary"
   ]
  },
  {
   "cell_type": "markdown",
   "id": "e053c291",
   "metadata": {},
   "source": [
    "32. Difference between remove and pop? \n",
    "The remove() method removes the first matching value from the list\n",
    "list_name.remove(value)\n",
    "The pop() method like del deletes value at a particular index\n",
    "list_name.pop(index)\n"
   ]
  },
  {
   "cell_type": "markdown",
   "id": "c626969a",
   "metadata": {},
   "source": [
    "33. Difference between indexing and Slicing? \n",
    "Indexing is used to access individual elements from the sequence\n",
    "seq[i]\n",
    "where i is the index position. Here i can take both positive value (positive indexing) and negative value (negative indexing).\n",
    "a) indexing is used to access individual elements from the sequence \n",
    "b) supports negative indexing \n",
    "c) out-of-range indices raise IndexError.\n",
    "\n",
    "Slicing is used to access one or more elements from the given sequence.\n",
    "seq[i: j: k]\n",
    "i = the starting index of the slice \n",
    "j = the stop index of the slice \n",
    "k = step size. "
   ]
  },
  {
   "cell_type": "markdown",
   "id": "e8e3dac5",
   "metadata": {},
   "source": [
    "34. Difference between sort and sorted? \n",
    "sort applicable only for list\n",
    "sort() return none\n",
    "sort faster compare to sorted\n",
    ">>> mylist = [5, 4, 3, 2, 1]\n",
    "\n",
    ">>> mylist.sort()\n",
    "\n",
    ">>> mylist\n",
    "[1, 2, 3, 4, 5]\n",
    "\n",
    "sorted can be use on any iterable such as tuple, list,dict,set\n",
    "\n",
    ">>> mylist = [5, 4, 3, 2, 1]\n",
    "\n",
    ">>> sorted(mylist)\n",
    "[1, 2, 3, 4, 5]\n",
    "\n",
    ">>> mylist\n",
    "[5, 4, 3, 2, 1]"
   ]
  },
  {
   "cell_type": "markdown",
   "id": "6a631188",
   "metadata": {},
   "source": [
    "35. Difference between reverse and reversed? \n",
    "reverse support only list\n",
    "return none\n",
    "\n",
    "reversed support all literable object(string,tuple,dict)\n",
    "return type is reversed iterable object"
   ]
  },
  {
   "cell_type": "markdown",
   "id": "8c62ce3a",
   "metadata": {},
   "source": [
    "# 36. Difference between copy and deep copy? \n",
    "copy is faster\n",
    "Shallow Copy reflects changes made to the new/copied object in the original object.\n",
    "\n",
    "Deep copy is comparatively slower\n",
    "Deep copy doesn’t reflect changes made to the new/copied object in the original object.\n",
    "in normal list copy and deep copy are same\n",
    "\n",
    "COPY\n",
    "\n",
    "from copy import copy\n",
    "x=[1,2,[3,4]]\n",
    "#Copying x\n",
    "y=copy(x)\n",
    "\n",
    "#Modifying elemets in the outer list\n",
    "#Changes are not reflected in the copied list\n",
    "x[0]=99\n",
    "print (x)#Output:[99, 2, [3, 4]]\n",
    "print (y)#Output:[1, 2, [3, 4]]\n",
    "\n",
    "#Modifying elements in the nested list.\n",
    "#Changes are reflected in the copied list also.\n",
    "x[2][0]=5555\n",
    "print (x)#Output:[99, 2, [5555, 4]]\n",
    "print (y)#Output:[1, 2, [5555, 4]]\n",
    "\n",
    "DEEPCOPY\n",
    "\n",
    "from copy import deepcopy\n",
    "x=[1,2,[3,4]]\n",
    "#deepcopying x\n",
    "y=deepcopy(x)\n",
    "\n",
    "#Modifying elements in the outer list.\n",
    "#It is not reflected in the deepcopied list.\n",
    "x[0]=99\n",
    "print (x)#Output:[99, 2, [3, 4]]\n",
    "print (y)#Output:[1, 2, [3, 4]]\n",
    "\n",
    "#Modifying elements in the nested list.\n",
    "#It is also not reflected in the deepcopied list.\n",
    "x[2][0]=555\n",
    "print (x)#Output:[99, 2, [555, 4]]\n",
    "print (y)#Output:[1, 2, [3, 4]]\n"
   ]
  },
  {
   "cell_type": "code",
   "execution_count": 1,
   "id": "5b8906b1",
   "metadata": {},
   "outputs": [
    {
     "name": "stdout",
     "output_type": "stream",
     "text": [
      "empty list\n"
     ]
    }
   ],
   "source": [
    "\"\"\"37. How to check whether the list is empty or not? \"\"\"\n",
    "a =[]\n",
    "if not a:\n",
    "    print('empty list')"
   ]
  },
  {
   "cell_type": "markdown",
   "id": "c2630bda",
   "metadata": {},
   "source": [
    "38. How to concatenate two lists? \n",
    "list3=list1+list2"
   ]
  },
  {
   "cell_type": "code",
   "execution_count": 3,
   "id": "e6e07d11",
   "metadata": {},
   "outputs": [
    {
     "data": {
      "text/plain": [
       "3"
      ]
     },
     "execution_count": 3,
     "metadata": {},
     "output_type": "execute_result"
    }
   ],
   "source": [
    "\"\"\"39. How to find the occurrences of an element in the python list? \n",
    "\"\"\"\n",
    "LS= [1,2,3,1,1]\n",
    "LS.count(1)"
   ]
  },
  {
   "cell_type": "code",
   "execution_count": 8,
   "id": "92c9a16b",
   "metadata": {},
   "outputs": [
    {
     "name": "stdout",
     "output_type": "stream",
     "text": [
      "[1, 2, 3, 4, 'Ten', 'Twenty', 'Thirty', 1.1, 10.0, (1+2j), 20.55, 3.142]\n"
     ]
    }
   ],
   "source": [
    "\"\"\"40. How to flatten a list in python?\"\"\"\n",
    "nestedlist = [ [1, 2, 3, 4], [\"Ten\", \"Twenty\", \"Thirty\"], [1.1,  1.0E1, 1+2j, 20.55, 3.142]]\n",
    "flatlist=[]\n",
    "for sublist in nestedlist:\n",
    "    for element in sublist:\n",
    "        flatlist.append(element)\n",
    "print(flatlist)"
   ]
  },
  {
   "cell_type": "code",
   "execution_count": null,
   "id": "3361b3c6",
   "metadata": {},
   "outputs": [],
   "source": []
  }
 ],
 "metadata": {
  "kernelspec": {
   "display_name": "Python 3 (ipykernel)",
   "language": "python",
   "name": "python3"
  },
  "language_info": {
   "codemirror_mode": {
    "name": "ipython",
    "version": 3
   },
   "file_extension": ".py",
   "mimetype": "text/x-python",
   "name": "python",
   "nbconvert_exporter": "python",
   "pygments_lexer": "ipython3",
   "version": "3.9.7"
  }
 },
 "nbformat": 4,
 "nbformat_minor": 5
}
